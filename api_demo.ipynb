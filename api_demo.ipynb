{
 "cells": [
  {
   "cell_type": "markdown",
   "metadata": {},
   "source": [
    "# Demo Notebook of Todo API"
   ]
  },
  {
   "cell_type": "code",
   "execution_count": 1,
   "metadata": {},
   "outputs": [],
   "source": [
    "import requests"
   ]
  },
  {
   "cell_type": "code",
   "execution_count": 2,
   "metadata": {},
   "outputs": [],
   "source": [
    "base_url = 'http://localhost:5000'"
   ]
  },
  {
   "cell_type": "markdown",
   "metadata": {},
   "source": [
    "Get API links"
   ]
  },
  {
   "cell_type": "code",
   "execution_count": 3,
   "metadata": {},
   "outputs": [],
   "source": [
    "resp = requests.get(base_url)"
   ]
  },
  {
   "cell_type": "code",
   "execution_count": 4,
   "metadata": {},
   "outputs": [],
   "source": [
    "todos_url = resp.json()['links']['todos']\n",
    "users_url = resp.json()['links']['users']"
   ]
  },
  {
   "cell_type": "markdown",
   "metadata": {},
   "source": [
    "Get all Todo objects"
   ]
  },
  {
   "cell_type": "code",
   "execution_count": 5,
   "metadata": {},
   "outputs": [
    {
     "name": "stdout",
     "output_type": "stream",
     "text": [
      "<Response [200]>\n"
     ]
    }
   ],
   "source": [
    "resp = requests.get(todos_url)\n",
    "print(resp)"
   ]
  },
  {
   "cell_type": "code",
   "execution_count": 6,
   "metadata": {},
   "outputs": [
    {
     "data": {
      "text/plain": [
       "{'items': ['http://localhost:5000/todos/5d547657c5b893ac3abe98d8',\n",
       "  'http://localhost:5000/todos/5d54767cc5b893ac3abe98d9',\n",
       "  'http://localhost:5000/todos/5d5476b28dbc254db8303392',\n",
       "  'http://localhost:5000/todos/5d5476b98dbc254db8303393',\n",
       "  'http://localhost:5000/todos/5d54774e5ea6ef7c5e0909bc',\n",
       "  'http://localhost:5000/todos/5d5477585ea6ef7c5e0909bd',\n",
       "  'http://localhost:5000/todos/5d54776dfbeb0f81e077ce85',\n",
       "  'http://localhost:5000/todos/5d547770fbeb0f81e077ce86',\n",
       "  'http://localhost:5000/todos/5d54778c53a2fb44cdda26c7',\n",
       "  'http://localhost:5000/todos/5d5477b43baa75d875c35242',\n",
       "  'http://localhost:5000/todos/5d5477bbaa93bb52fcbd5d37',\n",
       "  'http://localhost:5000/todos/5d5477db97967506a66e74b8',\n",
       "  'http://localhost:5000/todos/5d5478df2ea3aff364b1e542',\n",
       "  'http://localhost:5000/todos/5d5479b52ea3aff364b1e546',\n",
       "  'http://localhost:5000/todos/5d5479f22ea3aff364b1e547'],\n",
       " 'links': {'self': 'http://localhost:5000/todos'}}"
      ]
     },
     "execution_count": 6,
     "metadata": {},
     "output_type": "execute_result"
    }
   ],
   "source": [
    "resp.json()"
   ]
  },
  {
   "cell_type": "markdown",
   "metadata": {},
   "source": [
    "Create a new Todo object"
   ]
  },
  {
   "cell_type": "code",
   "execution_count": 7,
   "metadata": {},
   "outputs": [
    {
     "name": "stdout",
     "output_type": "stream",
     "text": [
      "<Response [201]>\n",
      "<Response [200]>\n"
     ]
    }
   ],
   "source": [
    "resp = requests.post(\n",
    "    todos_url,\n",
    "    json={\n",
    "        'title': 'Eat',\n",
    "        'description': 'Eat breakfast!',\n",
    "    },\n",
    ")\n",
    "print(resp)\n",
    "\n",
    "todo_url = resp.json()['links']['self']\n",
    "resp = requests.get(todo_url)\n",
    "print(resp)"
   ]
  },
  {
   "cell_type": "markdown",
   "metadata": {},
   "source": [
    "Try to create a bad Todo object"
   ]
  },
  {
   "cell_type": "code",
   "execution_count": 8,
   "metadata": {},
   "outputs": [
    {
     "name": "stdout",
     "output_type": "stream",
     "text": [
      "<Response [422]>\n"
     ]
    }
   ],
   "source": [
    "resp = requests.post(\n",
    "    todos_url,\n",
    "    json={\n",
    "        'description': 'Eat dinner!',\n",
    "    },\n",
    ")\n",
    "print(resp)"
   ]
  },
  {
   "cell_type": "markdown",
   "metadata": {},
   "source": [
    "Try to get a nonexistent Todo object"
   ]
  },
  {
   "cell_type": "code",
   "execution_count": 9,
   "metadata": {},
   "outputs": [
    {
     "name": "stdout",
     "output_type": "stream",
     "text": [
      "<Response [404]>\n"
     ]
    }
   ],
   "source": [
    "resp = requests.get(todos_url + '/bad_id')\n",
    "print(resp)"
   ]
  },
  {
   "cell_type": "markdown",
   "metadata": {},
   "source": [
    "Try another Todo object... but there's a 500?"
   ]
  },
  {
   "cell_type": "code",
   "execution_count": 10,
   "metadata": {},
   "outputs": [
    {
     "name": "stdout",
     "output_type": "stream",
     "text": [
      "<Response [201]>\n",
      "<Response [500]>\n"
     ]
    }
   ],
   "source": [
    "resp = requests.post(\n",
    "    todos_url,\n",
    "    json={\n",
    "        'title': 1,\n",
    "        'description': 'Eat dinner!',\n",
    "    },\n",
    ")\n",
    "print(resp)\n",
    "\n",
    "todo_url = resp.json()['links']['self']\n",
    "resp = requests.get(todo_url)\n",
    "print(resp)"
   ]
  },
  {
   "cell_type": "markdown",
   "metadata": {},
   "source": [
    "Get all User objects"
   ]
  },
  {
   "cell_type": "code",
   "execution_count": 11,
   "metadata": {},
   "outputs": [],
   "source": [
    "resp = requests.get(users_url)\n",
    "print(resp)"
   ]
  },
  {
   "cell_type": "code",
   "execution_count": 12,
   "metadata": {},
   "outputs": [
    {
     "data": {
      "text/plain": [
       "{'items': ['http://localhost:5000/users/5d547a8121313bdf9507f501',\n",
       "  'http://localhost:5000/users/5d547a8121313bdf9507f502'],\n",
       " 'links': {'self': 'http://localhost:5000/users'}}"
      ]
     },
     "execution_count": 12,
     "metadata": {},
     "output_type": "execute_result"
    }
   ],
   "source": [
    "resp.json()"
   ]
  },
  {
   "cell_type": "markdown",
   "metadata": {},
   "source": [
    "Create a User object"
   ]
  },
  {
   "cell_type": "code",
   "execution_count": 13,
   "metadata": {},
   "outputs": [
    {
     "name": "stdout",
     "output_type": "stream",
     "text": [
      "<Response [201]>\n",
      "<Response [200]>\n"
     ]
    }
   ],
   "source": [
    "resp = requests.post(\n",
    "    users_url,\n",
    "    json={\n",
    "        'email': 'some.user@example.com',\n",
    "        'name': 'Some User',\n",
    "    },\n",
    ")\n",
    "print(resp)\n",
    "\n",
    "user_url = resp.json()['links']['self']\n",
    "resp = requests.get(user_url)\n",
    "print(resp)"
   ]
  },
  {
   "cell_type": "markdown",
   "metadata": {},
   "source": [
    "Create another User object... with the same email?"
   ]
  },
  {
   "cell_type": "code",
   "execution_count": 14,
   "metadata": {},
   "outputs": [
    {
     "name": "stdout",
     "output_type": "stream",
     "text": [
      "<Response [201]>\n",
      "<Response [200]>\n"
     ]
    }
   ],
   "source": [
    "resp = requests.post(\n",
    "    users_url,\n",
    "    json={\n",
    "        'email': 'some.user@example.com',\n",
    "        'name': 'Some User Again',\n",
    "    },\n",
    ")\n",
    "print(resp)\n",
    "\n",
    "user_url = resp.json()['links']['self']\n",
    "resp = requests.get(user_url)\n",
    "print(resp)"
   ]
  },
  {
   "cell_type": "markdown",
   "metadata": {},
   "source": [
    "Create a bad User object"
   ]
  },
  {
   "cell_type": "code",
   "execution_count": 15,
   "metadata": {},
   "outputs": [
    {
     "name": "stdout",
     "output_type": "stream",
     "text": [
      "<Response [422]>\n"
     ]
    }
   ],
   "source": [
    "resp = requests.post(\n",
    "    users_url,\n",
    "    json={\n",
    "        'name': 'Some User Again',\n",
    "    },\n",
    ")\n",
    "print(resp)"
   ]
  },
  {
   "cell_type": "markdown",
   "metadata": {},
   "source": [
    "Try to get a nonexistent User object"
   ]
  },
  {
   "cell_type": "code",
   "execution_count": 16,
   "metadata": {},
   "outputs": [
    {
     "name": "stdout",
     "output_type": "stream",
     "text": [
      "<Response [404]>\n"
     ]
    }
   ],
   "source": [
    "resp = requests.get(users_url + '/bad_id')\n",
    "print(resp)"
   ]
  },
  {
   "cell_type": "code",
   "execution_count": null,
   "metadata": {},
   "outputs": [],
   "source": []
  }
 ],
 "metadata": {
  "kernelspec": {
   "display_name": "Python 3",
   "language": "python",
   "name": "python3"
  },
  "language_info": {
   "codemirror_mode": {
    "name": "ipython",
    "version": 3
   },
   "file_extension": ".py",
   "mimetype": "text/x-python",
   "name": "python",
   "nbconvert_exporter": "python",
   "pygments_lexer": "ipython3",
   "version": "3.6.3"
  }
 },
 "nbformat": 4,
 "nbformat_minor": 2
}
